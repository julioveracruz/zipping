{
 "cells": [
  {
   "cell_type": "code",
   "execution_count": 1,
   "id": "1f9b9d18-9168-4ac5-a589-78cfbadaf1f4",
   "metadata": {},
   "outputs": [],
   "source": [
    "import pandas as pd\n",
    "import seaborn as sns\n",
    "import os\n",
    "import shutil "
   ]
  },
  {
   "cell_type": "code",
   "execution_count": 2,
   "id": "1e6eee1e-f142-4e02-8448-d3116e2a76a1",
   "metadata": {},
   "outputs": [],
   "source": [
    "# let's make a folder for our data\n",
    "os.makedirs('csv_raw', exist_ok = True)"
   ]
  },
  {
   "cell_type": "code",
   "execution_count": 3,
   "id": "9da288c3-1424-4fa0-ac17-11f42768a346",
   "metadata": {},
   "outputs": [],
   "source": [
    "# importing some pre-made data courtesy of searborn\n",
    "# saving them as CSV files to the folder we made above\n",
    "iris = sns.load_dataset('iris')\n",
    "iris.to_csv('csv_raw/iris.csv')\n",
    "\n",
    "diamonds = sns.load_dataset('diamonds')\n",
    "diamonds.to_csv('csv_raw/diamonds.csv')\n",
    "\n",
    "planets = sns.load_dataset('planets')\n",
    "planets.to_csv('csv_raw/planets.csv')"
   ]
  },
  {
   "cell_type": "code",
   "execution_count": 4,
   "id": "defb7e11-30e6-4954-85b7-c583fcb37aad",
   "metadata": {},
   "outputs": [],
   "source": [
    "# using shutil module to created a zipped folder called \"input\" from the data in csv_raw\n",
    "shutil.make_archive('input', 'zip', 'csv_raw');\n",
    "\n",
    "# method of unzipping the zipped folder we just created\n",
    "# shutil.unpack_archive('input.zip', 'input')"
   ]
  },
  {
   "cell_type": "code",
   "execution_count": 5,
   "id": "d752fa1b-05cb-430a-bc8d-9eee8e30ef76",
   "metadata": {},
   "outputs": [],
   "source": [
    "# this deletes the csv_raw folder \n",
    "try:\n",
    "    shutil.rmtree('csv_raw')\n",
    "except:\n",
    "    print('Error while deleting directory')"
   ]
  }
 ],
 "metadata": {
  "kernelspec": {
   "display_name": "Python 3 (ipykernel)",
   "language": "python",
   "name": "python3"
  },
  "language_info": {
   "codemirror_mode": {
    "name": "ipython",
    "version": 3
   },
   "file_extension": ".py",
   "mimetype": "text/x-python",
   "name": "python",
   "nbconvert_exporter": "python",
   "pygments_lexer": "ipython3",
   "version": "3.9.7"
  }
 },
 "nbformat": 4,
 "nbformat_minor": 5
}
